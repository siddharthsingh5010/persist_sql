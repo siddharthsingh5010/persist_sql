{
 "cells": [
  {
   "cell_type": "code",
   "execution_count": 1,
   "metadata": {},
   "outputs": [],
   "source": [
    "import pandas as pd\n",
    "import numpy as np \n",
    "import sqlite3\n",
    "import shutil\n",
    "import os\n",
    "import boto3\n",
    "import botocore\n",
    "from IPython.core.magic import register_line_magic"
   ]
  },
  {
   "cell_type": "code",
   "execution_count": 2,
   "metadata": {},
   "outputs": [],
   "source": [
    "AWS_ACCESS_KEY = os.getenv('aws_key')\n",
    "AWS_SECRET_KEY = os.getenv('aws_secret')\n",
    "S3_BUCKET_NAME = 'siddharthsingh5010mybucket'"
   ]
  },
  {
   "cell_type": "code",
   "execution_count": 15,
   "metadata": {},
   "outputs": [],
   "source": [
    "global connection\n",
    "global cursor\n",
    "global database_name\n",
    "global s3_client\n",
    "global _sqldf"
   ]
  },
  {
   "cell_type": "code",
   "execution_count": 4,
   "metadata": {},
   "outputs": [],
   "source": [
    "def connect_db(dbname):\n",
    "    global connection\n",
    "    global cursor\n",
    "    global database_name\n",
    "    global s3_client\n",
    "    database_name = dbname\n",
    "    s3_client = boto3.client('s3', aws_access_key_id=AWS_ACCESS_KEY, aws_secret_access_key=AWS_SECRET_KEY)\n",
    "    if not os.path.exists(\"./.sqldb\"):\n",
    "        os.mkdir(\"./.sqldb\")\n",
    "    try:\n",
    "        s3_client.download_file(S3_BUCKET_NAME, f\"sql_db/{dbname}.db\", f\"./.sqldb/{dbname}.db\")\n",
    "        os.chmod(f\"./.sqldb/{dbname}.db\", 0o666)\n",
    "    except botocore.exceptions.ClientError as e:\n",
    "        print(f\"Database not found in S3, creating new database {dbname}\")\n",
    "    # Create Connection\n",
    "    connection = sqlite3.connect(f'./.sqldb/{dbname}.db')\n",
    "    cursor = connection.cursor()\n",
    "    database_name = dbname\n",
    "    print(f\"Successfully connected to database : {dbname}\")"
   ]
  },
  {
   "cell_type": "code",
   "execution_count": 5,
   "metadata": {},
   "outputs": [],
   "source": [
    "def show_tables():\n",
    "    try:\n",
    "        query = \"SELECT name FROM sqlite_master WHERE type='table';\"\n",
    "        tables_df = pd.read_sql(query, connection)\n",
    "        return tables_df\n",
    "    except Exception as e:\n",
    "        print(e)"
   ]
  },
  {
   "cell_type": "code",
   "execution_count": 6,
   "metadata": {},
   "outputs": [],
   "source": [
    "def describe_table(table_name):\n",
    "    try:\n",
    "        query = f\"PRAGMA table_info({table_name});\"\n",
    "        table_info = pd.read_sql(query, connection)\n",
    "        table_description = table_info[['name', 'type']].rename(columns={'name': 'Column', 'type': 'Data Type'})\n",
    "        return table_description\n",
    "    except Exception as e:\n",
    "        print(e)"
   ]
  },
  {
   "cell_type": "code",
   "execution_count": 7,
   "metadata": {},
   "outputs": [],
   "source": [
    "def run_sql_script(sql):\n",
    "    try:\n",
    "        cursor.executescript(sql)\n",
    "        connection.commit()  # Save changes to the database\n",
    "    except Exception as e:\n",
    "        print(e)"
   ]
  },
  {
   "cell_type": "code",
   "execution_count": 13,
   "metadata": {},
   "outputs": [],
   "source": [
    "@register_line_magic\n",
    "def sql(sqlquery):\n",
    "    global _sqldf\n",
    "    try:\n",
    "        _sqldf = pd.read_sql(sqlquery, connection)\n",
    "        connection.commit() \n",
    "        return _sqldf\n",
    "    except Exception as e:\n",
    "        print(e)"
   ]
  },
  {
   "cell_type": "code",
   "execution_count": 9,
   "metadata": {},
   "outputs": [],
   "source": [
    "def run_sql_file(filename):\n",
    "    with open(filename, 'r') as file:\n",
    "        sql_script = file.read()\n",
    "\n",
    "    # Run the SQL script\n",
    "    run_sql_script(sql_script)"
   ]
  },
  {
   "cell_type": "code",
   "execution_count": 10,
   "metadata": {},
   "outputs": [],
   "source": [
    "def close_connection():\n",
    "    cursor.close()\n",
    "    connection.close()\n",
    "    # Copy DB to teamspace\n",
    "    s3_client.upload_file(f\"./.sqldb/{database_name}.db\", S3_BUCKET_NAME, f\"sql_db/{database_name}.db\")\n",
    "    os.remove(f\"./.sqldb/{database_name}.db\")"
   ]
  }
 ],
 "metadata": {
  "language_info": {
   "name": "python"
  }
 },
 "nbformat": 4,
 "nbformat_minor": 2
}
